{
 "cells": [
  {
   "cell_type": "markdown",
   "metadata": {},
   "source": [
    "## Spotify 2023 Data Analysis. "
   ]
  },
  {
   "cell_type": "markdown",
   "metadata": {},
   "source": [
    "### Exploratory Analysis"
   ]
  },
  {
   "cell_type": "code",
   "execution_count": null,
   "metadata": {},
   "outputs": [],
   "source": [
    "import pandas as pd\n",
    "import numpy as np\n",
    "import matplotlib.pyplot as plt\n",
    "import matplotlib.ticker as ticker\n",
    "from matplotlib.ticker import FuncFormatter\n",
    "import seaborn as sns\n",
    "from IPython.display import display\n",
    "import plotly.express as px\n",
    "from sklearn.linear_model import LinearRegression\n",
    "import statsmodels.api as sm\n",
    "from scipy import stats\n",
    "\n",
    "print('packages imported')"
   ]
  },
  {
   "cell_type": "code",
   "execution_count": null,
   "metadata": {},
   "outputs": [],
   "source": [
    "df = pd.read_csv(r'C:\\Users\\cindy\\Documents\\Projects\\spotify_2023.csv', encoding='latin-1')\n",
    "df.head()"
   ]
  },
  {
   "cell_type": "code",
   "execution_count": null,
   "metadata": {},
   "outputs": [],
   "source": [
    "df.shape"
   ]
  },
  {
   "cell_type": "markdown",
   "metadata": {},
   "source": [
    "#### Preliminary Analysis"
   ]
  },
  {
   "cell_type": "code",
   "execution_count": null,
   "metadata": {},
   "outputs": [],
   "source": [
    "# Getting the summary statistics (mean, min, max, etc).\n",
    "df.describe()"
   ]
  },
  {
   "cell_type": "code",
   "execution_count": null,
   "metadata": {},
   "outputs": [],
   "source": [
    "# check for null values, if there are null values, replace with 0\n",
    "df.isnull().sum()"
   ]
  },
  {
   "cell_type": "code",
   "execution_count": null,
   "metadata": {},
   "outputs": [],
   "source": [
    "# Replace the null values by 0\n",
    "df['in_shazam_charts'].fillna(0, inplace=True)\n",
    "df['key'].fillna(0, inplace=True)\n",
    "\n",
    "df.isnull().sum()"
   ]
  },
  {
   "cell_type": "code",
   "execution_count": null,
   "metadata": {},
   "outputs": [],
   "source": [
    "df.info()"
   ]
  },
  {
   "cell_type": "markdown",
   "metadata": {},
   "source": [
    "#### Top 10 Most Streamed Tracks"
   ]
  },
  {
   "cell_type": "code",
   "execution_count": null,
   "metadata": {},
   "outputs": [],
   "source": [
    "# df['streams'] column is a object and needs to be changed to numerical. Find the non-numeric row and drop it.\n",
    "df['streams'] = pd.to_numeric(df['streams'], errors = 'coerce', downcast='integer')\n",
    "non_num  = df[df['streams'].isna()]\n",
    "# drop row and reset index\n",
    "df.drop(574, axis=0, inplace=True)\n",
    "df.reset_index(drop=True, inplace=True)\n",
    "\n",
    "df.shape"
   ]
  },
  {
   "cell_type": "code",
   "execution_count": null,
   "metadata": {},
   "outputs": [],
   "source": [
    "print(df['streams'].dtype)"
   ]
  },
  {
   "cell_type": "code",
   "execution_count": null,
   "metadata": {},
   "outputs": [],
   "source": [
    "# What are the top 10 most streamed songs of 2022?\n",
    "#Order 'streams' in desc order \n",
    "top_10_songs = df.sort_values(by='streams', ascending=False).head(10)\n",
    "top_10_songs.reset_index(drop=True, inplace=True)\n",
    "\n",
    "top_10_songs.head(1)"
   ]
  },
  {
   "cell_type": "code",
   "execution_count": null,
   "metadata": {},
   "outputs": [],
   "source": [
    "#create a bar chart to visualize top 10 songs\n",
    "plt.figure(figsize=(10,10))\n",
    "sns.set(style=\"whitegrid\")\n",
    "ax = sns.barplot(x='streams', y='track_name', data=top_10_songs, palette=\"viridis\")\n",
    "\n",
    "# Add labels and title\n",
    "ax.set(xlabel=\"Streams\", ylabel=\"Track Name\")\n",
    "plt.title(\"Top 10 Songs by Streams\")\n",
    "\n",
    "# Define a custom tick formatter function\n",
    "def billions_formatter(x, pos):\n",
    "    return f'{x / 1e9:.1f}B'\n",
    "\n",
    "# Apply the custom formatter to the x-axis\n",
    "plt.gca().xaxis.set_major_formatter(FuncFormatter(billions_formatter))\n",
    "\n",
    "# Annotate the bars with stream counts\n",
    "for index, row in top_10_songs.iterrows():\n",
    "    plt.text(row['streams'], index, f\"{row['streams'] / 1e9:.1f}B streams\")\n",
    "\n",
    "\n",
    "# Show the plot\n",
    "plt.show()"
   ]
  },
  {
   "cell_type": "markdown",
   "metadata": {},
   "source": [
    "#### Top 10 Most Streamed Artist"
   ]
  },
  {
   "cell_type": "code",
   "execution_count": null,
   "metadata": {},
   "outputs": [],
   "source": [
    "df['artist(s)_name'] = df['artist(s)_name'].str.split(',')\n",
    "df['artist(s)_name']"
   ]
  },
  {
   "cell_type": "code",
   "execution_count": null,
   "metadata": {},
   "outputs": [],
   "source": [
    "#seperate songs with multiple artist into their own rows\n",
    "df = df.explode('artist(s)_name', ignore_index=True)\n",
    "df.reset_index(drop=True, inplace=True)\n",
    "\n",
    "#drop artist count row\n",
    "df.drop('artist_count', axis=1, inplace=True)\n",
    "df.head(3)"
   ]
  },
  {
   "cell_type": "code",
   "execution_count": null,
   "metadata": {},
   "outputs": [],
   "source": [
    "duplicated_rows = df[df.duplicated(keep=False)]\n",
    "display(duplicated_rows)"
   ]
  },
  {
   "cell_type": "code",
   "execution_count": null,
   "metadata": {},
   "outputs": [],
   "source": [
    "#delete duplicate rows\n",
    "df.drop_duplicates(inplace=True)\n",
    "df.reset_index(drop=True, inplace=True)\n",
    "\n",
    "# Check if the duplicates are gone\n",
    "dup_rows = df[df.duplicated(keep=False)]\n",
    "display(dup_rows)\n",
    "df.shape"
   ]
  },
  {
   "cell_type": "code",
   "execution_count": null,
   "metadata": {},
   "outputs": [],
   "source": [
    "#calculate sum of streams, grouping by artist\n",
    "artst_strms=df.groupby('artist(s)_name')['streams'].sum().reset_index()\n",
    "most_strm_artst = artst_strms.sort_values(by='streams', ascending=False).head(10)\n",
    "\n",
    "most_strm_artst.head(10)"
   ]
  },
  {
   "cell_type": "code",
   "execution_count": null,
   "metadata": {},
   "outputs": [],
   "source": [
    "# Create a treemap using Plotly Express\n",
    "fig = px.treemap(most_strm_artst, \n",
    "                 path=['artist(s)_name'],  # Define the hierarchy with only one level (the artist's name)\n",
    "                 values='streams',  # Define the values to visualize (total streams)\n",
    "                 color='streams',  # Color the treemap by total stream count\n",
    "                 hover_data=['streams'],  # Add additional hover information (total streams)\n",
    "                 title='Top 10 Most Streamed Artists (Treemap)')\n",
    "\n",
    "# Customize the appearance\n",
    "fig.update_traces(textinfo='label+value', selector=dict(type='treemap'))\n",
    "\n",
    "# Show the interactive treemap\n",
    "fig.show()"
   ]
  },
  {
   "cell_type": "markdown",
   "metadata": {},
   "source": [
    "#### Top 10 artist with the most tracks"
   ]
  },
  {
   "cell_type": "code",
   "execution_count": null,
   "metadata": {},
   "outputs": [],
   "source": [
    "artst_trck_cnt = df['artist(s)_name'].value_counts()\n",
    "\n",
    "top_10_artst = artst_trck_cnt.head(10)\n",
    "\n",
    "display(top_10_artst)"
   ]
  },
  {
   "cell_type": "code",
   "execution_count": null,
   "metadata": {},
   "outputs": [],
   "source": [
    "# create bar chart with top 10 artist\n",
    "plt.figure(figsize=(8, 6))\n",
    "top_10_artst.plot(kind='bar')\n",
    "plt.xlabel('Artist')\n",
    "plt.ylabel('Number of songs')\n",
    "plt.title('Top 10 Artists with most tracks')\n",
    "plt.xticks(rotation=45)\n",
    "plt.tight_layout()\n",
    "plt.show()"
   ]
  },
  {
   "cell_type": "markdown",
   "metadata": {},
   "source": [
    "### Exploring Correlations and Music Attributes"
   ]
  },
  {
   "cell_type": "markdown",
   "metadata": {},
   "source": [
    "#### Correlation between attributes and streams"
   ]
  },
  {
   "cell_type": "code",
   "execution_count": null,
   "metadata": {},
   "outputs": [],
   "source": [
    "# Correlation between attributes and streams\n",
    "correlation_matrix = df[['streams', 'danceability_%', 'energy_%', 'valence_%', 'acousticness_%', 'instrumentalness_%', 'liveness_%', 'speechiness_%']].corr()\n",
    "\n",
    "plt.figure(figsize=(10, 8))\n",
    "sns.heatmap(correlation_matrix, annot=True, cmap='coolwarm', center=0)\n",
    "plt.title('Correlation Heatmap')\n",
    "plt.show()"
   ]
  },
  {
   "cell_type": "code",
   "execution_count": null,
   "metadata": {},
   "outputs": [],
   "source": [
    "# Scatter plot of danceability vs. energy\n",
    "plt.figure(figsize=(8, 6))\n",
    "sns.scatterplot(x='danceability_%', y='energy_%', data=df)\n",
    "plt.title('Danceability vs. Energy')\n",
    "plt.xlabel('Danceability')\n",
    "plt.ylabel('Energy')\n",
    "plt.show()"
   ]
  },
  {
   "cell_type": "markdown",
   "metadata": {},
   "source": [
    "#### Visualization of Music Sounds"
   ]
  },
  {
   "cell_type": "code",
   "execution_count": null,
   "metadata": {},
   "outputs": [],
   "source": [
    "plt.figure(figsize=(8, 6))\n",
    "sns.histplot(df['bpm'], bins=20, kde=True, color='skyblue')\n",
    "plt.title('Distribution of BPM (Beats Per Minute)')\n",
    "plt.xlabel('BPM')\n",
    "plt.ylabel('Count')\n",
    "plt.show()"
   ]
  },
  {
   "cell_type": "code",
   "execution_count": null,
   "metadata": {},
   "outputs": [],
   "source": [
    "plt.figure(figsize=(12, 6))\n",
    "plt.subplot(1, 2, 1)\n",
    "sns.countplot(x='key', data=df, palette='Set3')\n",
    "plt.title('Key Distribution')\n",
    "\n",
    "plt.subplot(1, 2, 2)\n",
    "sns.countplot(x='mode', data=df, palette='Set2')\n",
    "plt.title('Mode Distribution')\n",
    "\n",
    "plt.tight_layout()\n",
    "plt.show()"
   ]
  },
  {
   "cell_type": "markdown",
   "metadata": {},
   "source": [
    "#### Linear Regression"
   ]
  },
  {
   "cell_type": "code",
   "execution_count": null,
   "metadata": {},
   "outputs": [],
   "source": [
    "int_cols = df.select_dtypes(include=['int', 'float'])\n",
    "print(int_cols.info())"
   ]
  },
  {
   "cell_type": "code",
   "execution_count": null,
   "metadata": {},
   "outputs": [],
   "source": [
    "X = int_cols.drop('streams', axis = 1)\n",
    "y = df.streams"
   ]
  },
  {
   "cell_type": "code",
   "execution_count": null,
   "metadata": {},
   "outputs": [],
   "source": [
    "# define the model\n",
    "model = LinearRegression()\n",
    "\n",
    "# train the model\n",
    "model.fit(X,y)"
   ]
  },
  {
   "cell_type": "code",
   "execution_count": null,
   "metadata": {},
   "outputs": [],
   "source": [
    "# get coeficients of the model\n",
    "coeficientes = model.coef_\n",
    "intercepto = model.intercept_\n",
    "\n",
    "# Print coeficients\n",
    "print(\"Coeficientes:\", coeficientes)\n",
    "print(\"Intercepto:\", intercepto)"
   ]
  },
  {
   "cell_type": "code",
   "execution_count": null,
   "metadata": {},
   "outputs": [],
   "source": [
    "columns_to_exclude = ['in_spotify_playlists','in_spotify_charts','in_apple_playlists','in_apple_charts','in_deezer_charts']\n",
    "\n",
    "X_2 = X.drop(columns_to_exclude, axis = 1)\n",
    "model.fit(X_2,y)\n",
    "X3 = sm.add_constant(X_2)\n",
    "est = sm.OLS(y, X3)\n",
    "est2 = est.fit()\n",
    "print(est2.summary())"
   ]
  },
  {
   "cell_type": "code",
   "execution_count": null,
   "metadata": {},
   "outputs": [],
   "source": [
    "pd.set_option('display.float_format', '{:.2f}'.format)\n",
    "result = df.groupby(\"released_year\").streams.mean()\n",
    "\n",
    "# graph year x streams.mean\n",
    "sns.regplot(x=result.index, y=result)\n",
    "\n",
    "# Show the plot\n",
    "plt.show()\n",
    "\n",
    "## There is a outlier around 1973-1978 (prob 1975)"
   ]
  },
  {
   "cell_type": "code",
   "execution_count": null,
   "metadata": {},
   "outputs": [],
   "source": [
    "df[df.released_year == 1975]\n",
    "## 2 all time hits"
   ]
  },
  {
   "cell_type": "code",
   "execution_count": null,
   "metadata": {},
   "outputs": [],
   "source": [
    "result2 = df.groupby(\"released_day\").streams.mean()\n",
    "\n",
    "sns.regplot(x=result2.index, y=result2)\n",
    "\n",
    "# Show the plot\n",
    "# plot shows that it is more convenient to release songs later in the month\n",
    "plt.show()"
   ]
  },
  {
   "cell_type": "code",
   "execution_count": null,
   "metadata": {},
   "outputs": [],
   "source": [
    "result3 = df.groupby('released_month').streams.mean()\n",
    "sns.regplot(x=result3.index, y=result3)\n",
    "\n",
    "# Show the plot\n",
    "# no real relationship\n",
    "plt.show()"
   ]
  },
  {
   "cell_type": "code",
   "execution_count": null,
   "metadata": {},
   "outputs": [],
   "source": [
    "result4 = df.groupby('danceability_%').streams.mean()\n",
    "sns.regplot(x=result4.index, y=result4)\n",
    "\n",
    "# Show the plot\n",
    "# the higher the danceability_%, the lower the streams\n",
    "plt.show()"
   ]
  },
  {
   "cell_type": "code",
   "execution_count": null,
   "metadata": {},
   "outputs": [],
   "source": [
    "result5 = df.groupby('energy_%').streams.mean()\n",
    "sns.regplot(x=result5.index, y=result5)\n",
    "\n",
    "# Show the plot\n",
    "# energy doesn't really have a effect on streams\n",
    "plt.show()"
   ]
  }
 ],
 "metadata": {
  "kernelspec": {
   "display_name": "Python 3",
   "language": "python",
   "name": "python3"
  },
  "language_info": {
   "codemirror_mode": {
    "name": "ipython",
    "version": 3
   },
   "file_extension": ".py",
   "mimetype": "text/x-python",
   "name": "python",
   "nbconvert_exporter": "python",
   "pygments_lexer": "ipython3",
   "version": "3.11.5"
  },
  "orig_nbformat": 4
 },
 "nbformat": 4,
 "nbformat_minor": 2
}
